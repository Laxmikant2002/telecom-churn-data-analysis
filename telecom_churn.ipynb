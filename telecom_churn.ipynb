{
 "cells": [
  {
   "cell_type": "code",
   "execution_count": 23,
   "id": "fbfec2e6-0202-494f-bf2b-ff4b8699f7f3",
   "metadata": {},
   "outputs": [],
   "source": [
    "import pandas as pd\n",
    "import numpy as np\n",
    "import sklearn\n",
    "import matplotlib.pyplot as plt\n",
    "import seaborn as sns\n",
    "from sklearn.preprocessing import LabelEncoder\n",
    "from sklearn.preprocessing import StandardScaler\n",
    "from sklearn.metrics import classification_report\n",
    "from sklearn.linear_model import LogisticRegression\n",
    "from sklearn.model_selection import train_test_split"
   ]
  },
  {
   "cell_type": "code",
   "execution_count": 24,
   "id": "dc4140c2-6aac-458a-b4c4-a86e2d7b52c8",
   "metadata": {},
   "outputs": [
    {
     "data": {
      "text/html": [
       "<div>\n",
       "<style scoped>\n",
       "    .dataframe tbody tr th:only-of-type {\n",
       "        vertical-align: middle;\n",
       "    }\n",
       "\n",
       "    .dataframe tbody tr th {\n",
       "        vertical-align: top;\n",
       "    }\n",
       "\n",
       "    .dataframe thead th {\n",
       "        text-align: right;\n",
       "    }\n",
       "</style>\n",
       "<table border=\"1\" class=\"dataframe\">\n",
       "  <thead>\n",
       "    <tr style=\"text-align: right;\">\n",
       "      <th></th>\n",
       "      <th>customer_id</th>\n",
       "      <th>telecom_partner</th>\n",
       "      <th>gender</th>\n",
       "      <th>age</th>\n",
       "      <th>state</th>\n",
       "      <th>city</th>\n",
       "      <th>pincode</th>\n",
       "      <th>date_of_registration</th>\n",
       "      <th>num_dependents</th>\n",
       "      <th>estimated_salary</th>\n",
       "      <th>calls_made</th>\n",
       "      <th>sms_sent</th>\n",
       "      <th>data_used</th>\n",
       "      <th>churn</th>\n",
       "    </tr>\n",
       "  </thead>\n",
       "  <tbody>\n",
       "    <tr>\n",
       "      <th>0</th>\n",
       "      <td>1</td>\n",
       "      <td>Reliance Jio</td>\n",
       "      <td>F</td>\n",
       "      <td>25</td>\n",
       "      <td>Karnataka</td>\n",
       "      <td>Kolkata</td>\n",
       "      <td>755597</td>\n",
       "      <td>1/1/2020</td>\n",
       "      <td>4</td>\n",
       "      <td>124962</td>\n",
       "      <td>44</td>\n",
       "      <td>45</td>\n",
       "      <td>-361</td>\n",
       "      <td>0</td>\n",
       "    </tr>\n",
       "    <tr>\n",
       "      <th>1</th>\n",
       "      <td>2</td>\n",
       "      <td>Reliance Jio</td>\n",
       "      <td>F</td>\n",
       "      <td>55</td>\n",
       "      <td>Mizoram</td>\n",
       "      <td>Mumbai</td>\n",
       "      <td>125926</td>\n",
       "      <td>1/1/2020</td>\n",
       "      <td>2</td>\n",
       "      <td>130556</td>\n",
       "      <td>62</td>\n",
       "      <td>39</td>\n",
       "      <td>5973</td>\n",
       "      <td>0</td>\n",
       "    </tr>\n",
       "    <tr>\n",
       "      <th>2</th>\n",
       "      <td>3</td>\n",
       "      <td>Vodafone</td>\n",
       "      <td>F</td>\n",
       "      <td>57</td>\n",
       "      <td>Arunachal Pradesh</td>\n",
       "      <td>Delhi</td>\n",
       "      <td>423976</td>\n",
       "      <td>1/1/2020</td>\n",
       "      <td>0</td>\n",
       "      <td>148828</td>\n",
       "      <td>49</td>\n",
       "      <td>24</td>\n",
       "      <td>193</td>\n",
       "      <td>1</td>\n",
       "    </tr>\n",
       "    <tr>\n",
       "      <th>3</th>\n",
       "      <td>4</td>\n",
       "      <td>BSNL</td>\n",
       "      <td>M</td>\n",
       "      <td>46</td>\n",
       "      <td>Tamil Nadu</td>\n",
       "      <td>Kolkata</td>\n",
       "      <td>522841</td>\n",
       "      <td>1/1/2020</td>\n",
       "      <td>1</td>\n",
       "      <td>38722</td>\n",
       "      <td>80</td>\n",
       "      <td>25</td>\n",
       "      <td>9377</td>\n",
       "      <td>1</td>\n",
       "    </tr>\n",
       "    <tr>\n",
       "      <th>4</th>\n",
       "      <td>5</td>\n",
       "      <td>BSNL</td>\n",
       "      <td>F</td>\n",
       "      <td>26</td>\n",
       "      <td>Tripura</td>\n",
       "      <td>Delhi</td>\n",
       "      <td>740247</td>\n",
       "      <td>1/1/2020</td>\n",
       "      <td>2</td>\n",
       "      <td>55098</td>\n",
       "      <td>78</td>\n",
       "      <td>15</td>\n",
       "      <td>1393</td>\n",
       "      <td>0</td>\n",
       "    </tr>\n",
       "    <tr>\n",
       "      <th>5</th>\n",
       "      <td>6</td>\n",
       "      <td>Vodafone</td>\n",
       "      <td>M</td>\n",
       "      <td>36</td>\n",
       "      <td>Uttarakhand</td>\n",
       "      <td>Chennai</td>\n",
       "      <td>120612</td>\n",
       "      <td>1/1/2020</td>\n",
       "      <td>1</td>\n",
       "      <td>73452</td>\n",
       "      <td>91</td>\n",
       "      <td>24</td>\n",
       "      <td>8109</td>\n",
       "      <td>0</td>\n",
       "    </tr>\n",
       "    <tr>\n",
       "      <th>6</th>\n",
       "      <td>7</td>\n",
       "      <td>BSNL</td>\n",
       "      <td>F</td>\n",
       "      <td>60</td>\n",
       "      <td>Karnataka</td>\n",
       "      <td>Delhi</td>\n",
       "      <td>609616</td>\n",
       "      <td>1/1/2020</td>\n",
       "      <td>1</td>\n",
       "      <td>110035</td>\n",
       "      <td>36</td>\n",
       "      <td>13</td>\n",
       "      <td>8512</td>\n",
       "      <td>0</td>\n",
       "    </tr>\n",
       "    <tr>\n",
       "      <th>7</th>\n",
       "      <td>8</td>\n",
       "      <td>BSNL</td>\n",
       "      <td>M</td>\n",
       "      <td>46</td>\n",
       "      <td>Arunachal Pradesh</td>\n",
       "      <td>Kolkata</td>\n",
       "      <td>866786</td>\n",
       "      <td>1/1/2020</td>\n",
       "      <td>4</td>\n",
       "      <td>104541</td>\n",
       "      <td>87</td>\n",
       "      <td>40</td>\n",
       "      <td>2245</td>\n",
       "      <td>1</td>\n",
       "    </tr>\n",
       "    <tr>\n",
       "      <th>8</th>\n",
       "      <td>9</td>\n",
       "      <td>Reliance Jio</td>\n",
       "      <td>F</td>\n",
       "      <td>53</td>\n",
       "      <td>Himachal Pradesh</td>\n",
       "      <td>Mumbai</td>\n",
       "      <td>765257</td>\n",
       "      <td>1/1/2020</td>\n",
       "      <td>2</td>\n",
       "      <td>79439</td>\n",
       "      <td>34</td>\n",
       "      <td>12</td>\n",
       "      <td>10039</td>\n",
       "      <td>0</td>\n",
       "    </tr>\n",
       "    <tr>\n",
       "      <th>9</th>\n",
       "      <td>10</td>\n",
       "      <td>BSNL</td>\n",
       "      <td>F</td>\n",
       "      <td>57</td>\n",
       "      <td>Rajasthan</td>\n",
       "      <td>Mumbai</td>\n",
       "      <td>506308</td>\n",
       "      <td>1/1/2020</td>\n",
       "      <td>0</td>\n",
       "      <td>126422</td>\n",
       "      <td>61</td>\n",
       "      <td>33</td>\n",
       "      <td>567</td>\n",
       "      <td>0</td>\n",
       "    </tr>\n",
       "  </tbody>\n",
       "</table>\n",
       "</div>"
      ],
      "text/plain": [
       "   customer_id telecom_partner gender  age              state     city  \\\n",
       "0            1    Reliance Jio      F   25          Karnataka  Kolkata   \n",
       "1            2    Reliance Jio      F   55            Mizoram   Mumbai   \n",
       "2            3        Vodafone      F   57  Arunachal Pradesh    Delhi   \n",
       "3            4            BSNL      M   46         Tamil Nadu  Kolkata   \n",
       "4            5            BSNL      F   26            Tripura    Delhi   \n",
       "5            6        Vodafone      M   36        Uttarakhand  Chennai   \n",
       "6            7            BSNL      F   60          Karnataka    Delhi   \n",
       "7            8            BSNL      M   46  Arunachal Pradesh  Kolkata   \n",
       "8            9    Reliance Jio      F   53   Himachal Pradesh   Mumbai   \n",
       "9           10            BSNL      F   57          Rajasthan   Mumbai   \n",
       "\n",
       "   pincode date_of_registration  num_dependents  estimated_salary  calls_made  \\\n",
       "0   755597             1/1/2020               4            124962          44   \n",
       "1   125926             1/1/2020               2            130556          62   \n",
       "2   423976             1/1/2020               0            148828          49   \n",
       "3   522841             1/1/2020               1             38722          80   \n",
       "4   740247             1/1/2020               2             55098          78   \n",
       "5   120612             1/1/2020               1             73452          91   \n",
       "6   609616             1/1/2020               1            110035          36   \n",
       "7   866786             1/1/2020               4            104541          87   \n",
       "8   765257             1/1/2020               2             79439          34   \n",
       "9   506308             1/1/2020               0            126422          61   \n",
       "\n",
       "   sms_sent  data_used  churn  \n",
       "0        45       -361      0  \n",
       "1        39       5973      0  \n",
       "2        24        193      1  \n",
       "3        25       9377      1  \n",
       "4        15       1393      0  \n",
       "5        24       8109      0  \n",
       "6        13       8512      0  \n",
       "7        40       2245      1  \n",
       "8        12      10039      0  \n",
       "9        33        567      0  "
      ]
     },
     "execution_count": 24,
     "metadata": {},
     "output_type": "execute_result"
    }
   ],
   "source": [
    "df = pd.read_csv('C:/Users/laxmi/OneDrive/Documents/telecom churn  project/telecom_churn.csv')\n",
    "df.head(10)"
   ]
  },
  {
   "cell_type": "code",
   "execution_count": 25,
   "id": "25d4289c-5640-465b-9215-ba6c5193ea6f",
   "metadata": {},
   "outputs": [
    {
     "data": {
      "text/plain": [
       "(243553, 14)"
      ]
     },
     "execution_count": 25,
     "metadata": {},
     "output_type": "execute_result"
    }
   ],
   "source": [
    "df.shape"
   ]
  },
  {
   "cell_type": "code",
   "execution_count": 26,
   "id": "24bb1f5c-9dac-403f-8269-7b2c59b89a91",
   "metadata": {},
   "outputs": [
    {
     "data": {
      "text/plain": [
       "array(['customer_id', 'telecom_partner', 'gender', 'age', 'state', 'city',\n",
       "       'pincode', 'date_of_registration', 'num_dependents',\n",
       "       'estimated_salary', 'calls_made', 'sms_sent', 'data_used', 'churn'],\n",
       "      dtype=object)"
      ]
     },
     "execution_count": 26,
     "metadata": {},
     "output_type": "execute_result"
    }
   ],
   "source": [
    "df.columns.values"
   ]
  },
  {
   "cell_type": "code",
   "execution_count": 27,
   "id": "349a8de8-8074-4a35-b391-ec03880fbf17",
   "metadata": {},
   "outputs": [
    {
     "data": {
      "text/plain": [
       "customer_id             0\n",
       "telecom_partner         0\n",
       "gender                  0\n",
       "age                     0\n",
       "state                   0\n",
       "city                    0\n",
       "pincode                 0\n",
       "date_of_registration    0\n",
       "num_dependents          0\n",
       "estimated_salary        0\n",
       "calls_made              0\n",
       "sms_sent                0\n",
       "data_used               0\n",
       "churn                   0\n",
       "dtype: int64"
      ]
     },
     "execution_count": 27,
     "metadata": {},
     "output_type": "execute_result"
    }
   ],
   "source": [
    "df. isna(). sum()"
   ]
  },
  {
   "cell_type": "code",
   "execution_count": 28,
   "id": "0dded36c-e9e8-41ba-86ff-b50ab7165e81",
   "metadata": {},
   "outputs": [
    {
     "data": {
      "text/html": [
       "<div>\n",
       "<style scoped>\n",
       "    .dataframe tbody tr th:only-of-type {\n",
       "        vertical-align: middle;\n",
       "    }\n",
       "\n",
       "    .dataframe tbody tr th {\n",
       "        vertical-align: top;\n",
       "    }\n",
       "\n",
       "    .dataframe thead th {\n",
       "        text-align: right;\n",
       "    }\n",
       "</style>\n",
       "<table border=\"1\" class=\"dataframe\">\n",
       "  <thead>\n",
       "    <tr style=\"text-align: right;\">\n",
       "      <th></th>\n",
       "      <th>customer_id</th>\n",
       "      <th>age</th>\n",
       "      <th>pincode</th>\n",
       "      <th>num_dependents</th>\n",
       "      <th>estimated_salary</th>\n",
       "      <th>calls_made</th>\n",
       "      <th>sms_sent</th>\n",
       "      <th>data_used</th>\n",
       "      <th>churn</th>\n",
       "    </tr>\n",
       "  </thead>\n",
       "  <tbody>\n",
       "    <tr>\n",
       "      <th>count</th>\n",
       "      <td>243553.000000</td>\n",
       "      <td>243553.000000</td>\n",
       "      <td>243553.000000</td>\n",
       "      <td>243553.000000</td>\n",
       "      <td>243553.000000</td>\n",
       "      <td>243553.000000</td>\n",
       "      <td>243553.000000</td>\n",
       "      <td>243553.000000</td>\n",
       "      <td>243553.000000</td>\n",
       "    </tr>\n",
       "    <tr>\n",
       "      <th>mean</th>\n",
       "      <td>121777.000000</td>\n",
       "      <td>46.077609</td>\n",
       "      <td>549501.270541</td>\n",
       "      <td>1.997500</td>\n",
       "      <td>85021.137839</td>\n",
       "      <td>49.010548</td>\n",
       "      <td>23.945404</td>\n",
       "      <td>4993.186025</td>\n",
       "      <td>0.200478</td>\n",
       "    </tr>\n",
       "    <tr>\n",
       "      <th>std</th>\n",
       "      <td>70307.839393</td>\n",
       "      <td>16.444029</td>\n",
       "      <td>259808.860574</td>\n",
       "      <td>1.414941</td>\n",
       "      <td>37508.963233</td>\n",
       "      <td>29.453556</td>\n",
       "      <td>14.733575</td>\n",
       "      <td>2942.019547</td>\n",
       "      <td>0.400359</td>\n",
       "    </tr>\n",
       "    <tr>\n",
       "      <th>min</th>\n",
       "      <td>1.000000</td>\n",
       "      <td>18.000000</td>\n",
       "      <td>100006.000000</td>\n",
       "      <td>0.000000</td>\n",
       "      <td>20000.000000</td>\n",
       "      <td>-10.000000</td>\n",
       "      <td>-5.000000</td>\n",
       "      <td>-987.000000</td>\n",
       "      <td>0.000000</td>\n",
       "    </tr>\n",
       "    <tr>\n",
       "      <th>25%</th>\n",
       "      <td>60889.000000</td>\n",
       "      <td>32.000000</td>\n",
       "      <td>324586.000000</td>\n",
       "      <td>1.000000</td>\n",
       "      <td>52585.000000</td>\n",
       "      <td>24.000000</td>\n",
       "      <td>11.000000</td>\n",
       "      <td>2490.000000</td>\n",
       "      <td>0.000000</td>\n",
       "    </tr>\n",
       "    <tr>\n",
       "      <th>50%</th>\n",
       "      <td>121777.000000</td>\n",
       "      <td>46.000000</td>\n",
       "      <td>548112.000000</td>\n",
       "      <td>2.000000</td>\n",
       "      <td>84990.000000</td>\n",
       "      <td>49.000000</td>\n",
       "      <td>24.000000</td>\n",
       "      <td>4987.000000</td>\n",
       "      <td>0.000000</td>\n",
       "    </tr>\n",
       "    <tr>\n",
       "      <th>75%</th>\n",
       "      <td>182665.000000</td>\n",
       "      <td>60.000000</td>\n",
       "      <td>774994.000000</td>\n",
       "      <td>3.000000</td>\n",
       "      <td>117488.000000</td>\n",
       "      <td>74.000000</td>\n",
       "      <td>36.000000</td>\n",
       "      <td>7493.000000</td>\n",
       "      <td>0.000000</td>\n",
       "    </tr>\n",
       "    <tr>\n",
       "      <th>max</th>\n",
       "      <td>243553.000000</td>\n",
       "      <td>74.000000</td>\n",
       "      <td>999987.000000</td>\n",
       "      <td>4.000000</td>\n",
       "      <td>149999.000000</td>\n",
       "      <td>108.000000</td>\n",
       "      <td>53.000000</td>\n",
       "      <td>10991.000000</td>\n",
       "      <td>1.000000</td>\n",
       "    </tr>\n",
       "  </tbody>\n",
       "</table>\n",
       "</div>"
      ],
      "text/plain": [
       "         customer_id            age        pincode  num_dependents  \\\n",
       "count  243553.000000  243553.000000  243553.000000   243553.000000   \n",
       "mean   121777.000000      46.077609  549501.270541        1.997500   \n",
       "std     70307.839393      16.444029  259808.860574        1.414941   \n",
       "min         1.000000      18.000000  100006.000000        0.000000   \n",
       "25%     60889.000000      32.000000  324586.000000        1.000000   \n",
       "50%    121777.000000      46.000000  548112.000000        2.000000   \n",
       "75%    182665.000000      60.000000  774994.000000        3.000000   \n",
       "max    243553.000000      74.000000  999987.000000        4.000000   \n",
       "\n",
       "       estimated_salary     calls_made       sms_sent      data_used  \\\n",
       "count     243553.000000  243553.000000  243553.000000  243553.000000   \n",
       "mean       85021.137839      49.010548      23.945404    4993.186025   \n",
       "std        37508.963233      29.453556      14.733575    2942.019547   \n",
       "min        20000.000000     -10.000000      -5.000000    -987.000000   \n",
       "25%        52585.000000      24.000000      11.000000    2490.000000   \n",
       "50%        84990.000000      49.000000      24.000000    4987.000000   \n",
       "75%       117488.000000      74.000000      36.000000    7493.000000   \n",
       "max       149999.000000     108.000000      53.000000   10991.000000   \n",
       "\n",
       "               churn  \n",
       "count  243553.000000  \n",
       "mean        0.200478  \n",
       "std         0.400359  \n",
       "min         0.000000  \n",
       "25%         0.000000  \n",
       "50%         0.000000  \n",
       "75%         0.000000  \n",
       "max         1.000000  "
      ]
     },
     "execution_count": 28,
     "metadata": {},
     "output_type": "execute_result"
    }
   ],
   "source": [
    "df.describe()"
   ]
  },
  {
   "cell_type": "code",
   "execution_count": 29,
   "id": "2f8de3b5-8958-4682-957b-662da713a48a",
   "metadata": {},
   "outputs": [
    {
     "data": {
      "text/plain": [
       "churn\n",
       "0    194726\n",
       "1     48827\n",
       "Name: count, dtype: int64"
      ]
     },
     "execution_count": 29,
     "metadata": {},
     "output_type": "execute_result"
    }
   ],
   "source": [
    "df['churn'] . value_counts()"
   ]
  },
  {
   "cell_type": "code",
   "execution_count": 30,
   "id": "6de15fa9-a24b-49d4-989a-7b55c55f5601",
   "metadata": {},
   "outputs": [
    {
     "data": {
      "text/plain": [
       "<Axes: xlabel='gender', ylabel='count'>"
      ]
     },
     "execution_count": 30,
     "metadata": {},
     "output_type": "execute_result"
    },
    {
     "data": {
      "image/png": "[encoded data removed]",
      "text/plain": [
       "<Figure size 640x480 with 1 Axes>"
      ]
     },
     "metadata": {},
     "output_type": "display_data"
    }
   ],
   "source": [
    "sns.countplot(x='gender', hue= 'churn', data = df)"
   ]
  },
  {
   "cell_type": "code",
   "execution_count": 31,
   "id": "ac03fff8-9386-4754-b0aa-501dcb6dfae1",
   "metadata": {},
   "outputs": [
    {
     "data": {
      "text/plain": [
       "array([[<Axes: title={'center': 'customer_id'}>,\n",
       "        <Axes: title={'center': 'age'}>,\n",
       "        <Axes: title={'center': 'pincode'}>],\n",
       "       [<Axes: title={'center': 'num_dependents'}>,\n",
       "        <Axes: title={'center': 'estimated_salary'}>,\n",
       "        <Axes: title={'center': 'calls_made'}>],\n",
       "       [<Axes: title={'center': 'sms_sent'}>,\n",
       "        <Axes: title={'center': 'data_used'}>,\n",
       "        <Axes: title={'center': 'churn'}>]], dtype=object)"
      ]
     },
     "execution_count": 31,
     "metadata": {},
     "output_type": "execute_result"
    },
    {
     "data": {
      "image/png": "[encoded data removed]",
      "text/plain": [
       "<Figure size 1000x800 with 9 Axes>"
      ]
     },
     "metadata": {},
     "output_type": "display_data"
    }
   ],
   "source": [
    "df.hist(figsize=(10, 8))  "
   ]
  },
  {
   "cell_type": "code",
   "execution_count": 14,
   "id": "9115eb49-2627-4d5c-9291-18d006cdbb9a",
   "metadata": {},
   "outputs": [
    {
     "data": {
      "text/plain": [
       "customer_id             0\n",
       "telecom_partner         0\n",
       "gender                  0\n",
       "age                     0\n",
       "state                   0\n",
       "city                    0\n",
       "pincode                 0\n",
       "date_of_registration    0\n",
       "num_dependents          0\n",
       "estimated_salary        0\n",
       "calls_made              0\n",
       "sms_sent                0\n",
       "data_used               0\n",
       "churn                   0\n",
       "dtype: int64"
      ]
     },
     "execution_count": 14,
     "metadata": {},
     "output_type": "execute_result"
    }
   ],
   "source": [
    "df.isnull().sum() "
   ]
  },
  {
   "cell_type": "code",
   "execution_count": 15,
   "id": "63ca4d21-ca33-4fe0-8942-eea14d32e2ae",
   "metadata": {},
   "outputs": [],
   "source": [
    "Q1 = df[\"estimated_salary\"].quantile(0.25)\n",
    "Q3 = df[\"estimated_salary\"].quantile(0.75)\n",
    "IQR = Q3 - Q1\n",
    "df = df[(df[\"estimated_salary\"] >= Q1 - 1.5 * IQR) & (df[\"estimated_salary\"] <= Q3 + 1.5 * IQR)]\n"
   ]
  },
  {
   "cell_type": "code",
   "execution_count": 16,
   "id": "4d72a4b8-7056-4acc-904f-6cb960acd2f4",
   "metadata": {},
   "outputs": [],
   "source": [
    "df[\"date_of_registration\"] = pd.to_datetime(df[\"date_of_registration\"])\n",
    "df[\"state\"] = df[\"state\"].astype(\"category\")\n"
   ]
  },
  {
   "cell_type": "code",
   "execution_count": 17,
   "id": "4f5d63e7-c5fe-45a4-b4d9-d746862a610c",
   "metadata": {},
   "outputs": [],
   "source": [
    "df[\"new_feature\"] = df[\"calls_made\"] * df[\"sms_sent\"]"
   ]
  },
  {
   "cell_type": "code",
   "execution_count": 18,
   "id": "fb51cec5-5ad0-4432-90fb-19afe38fee31",
   "metadata": {},
   "outputs": [],
   "source": [
    "df = pd.get_dummies(df, columns=[\"state\"])"
   ]
  },
  {
   "cell_type": "code",
   "execution_count": 19,
   "id": "f00aadb7-bd32-4612-b7ec-0829fccc9909",
   "metadata": {},
   "outputs": [],
   "source": [
    "df.to_csv(\"cleaned_data.csv\", index=False)"
   ]
  },
  {
   "cell_type": "code",
   "execution_count": 22,
   "id": "ade0b1a0-cc72-452d-a249-6928c1a31e8d",
   "metadata": {},
   "outputs": [
    {
     "data": {
      "image/png": "[encoded data removed]",
      "text/plain": [
       "<Figure size 640x480 with 1 Axes>"
      ]
     },
     "metadata": {},
     "output_type": "display_data"
    }
   ],
   "source": [
    "df[\"estimated_salary\"].hist()\n",
    "plt.xlabel(\"Values\")\n",
    "plt.ylabel(\"Frequency\")\n",
    "plt.title(\"Distribution of Estimated Salary\")\n",
    "plt.show()"
   ]
  },
  {
   "cell_type": "code",
   "execution_count": null,
   "id": "6d18f83d-bf2d-4097-a341-876de54ffd3f",
   "metadata": {},
   "outputs": [],
   "source": []
  }
 ],
 "metadata": {
  "kernelspec": {
   "display_name": "Python 3 (ipykernel)",
   "language": "python",
   "name": "python3"
  },
  "language_info": {
   "codemirror_mode": {
    "name": "ipython",
    "version": 3
   },
   "file_extension": ".py",
   "mimetype": "text/x-python",
   "name": "python",
   "nbconvert_exporter": "python",
   "pygments_lexer": "ipython3",
   "version": "3.12.4"
  }
 },
 "nbformat": 4,
 "nbformat_minor": 5
}
